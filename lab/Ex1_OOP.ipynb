{
 "cells": [
  {
   "cell_type": "markdown",
   "metadata": {},
   "source": [
    "## <u>Exercises</u>"
   ]
  },
  {
   "cell_type": "markdown",
   "metadata": {},
   "source": [
    "Create a Consumer class with:\n",
    "\n",
    "- wealth as attribute (amount of money)\n",
    "\n",
    "- earn method, where earn(m) increments the consumer’s wealth by m\n",
    "\n",
    "- a spend method, where spend(m) either decreases wealth by m or returns an error if there are not enough money\n",
    "\n",
    "- a __str__ will print the wealth at the current time"
   ]
  },
  {
   "cell_type": "code",
   "execution_count": 5,
   "metadata": {},
   "outputs": [
    {
     "name": "stdout",
     "output_type": "stream",
     "text": [
      "150\n",
      "80\n",
      "There are not enough money\n",
      "80\n",
      "Wealth at current time 80\n"
     ]
    }
   ],
   "source": [
    "class Consumer:\n",
    "    def __init__(self, wealth):\n",
    "        self.wealth = wealth\n",
    "    \n",
    "    def earn(self, m):\n",
    "        self.wealth += m\n",
    "    \n",
    "    def spend(self, m):\n",
    "        if self.wealth >= m:\n",
    "            self.wealth -= m\n",
    "        else:\n",
    "            print(\"There are not enough money\")\n",
    "        return \n",
    "    def __str__(self):\n",
    "        return f\"Wealth at current time {self.wealth}\"\n",
    "        \n",
    "\n",
    "# Create a Consumer object with an initial wealth of 100\n",
    "c = Consumer(100)\n",
    "\n",
    "# The consumer earns 50\n",
    "c.earn(50)\n",
    "print(c.wealth)  # Output: 150\n",
    "\n",
    "# The consumer spends 70\n",
    "c.spend(70)\n",
    "print(c.wealth)  # Output: 80\n",
    "\n",
    "# The consumer tries to spend 100\n",
    "c.spend(100)  # Output: There are not enough money\n",
    "print(c.wealth)  # Output: 80 \n",
    "\n",
    "# to make the __str__ work\n",
    "print(c)"
   ]
  },
  {
   "cell_type": "markdown",
   "metadata": {},
   "source": [
    "<hr>"
   ]
  },
  {
   "cell_type": "markdown",
   "metadata": {},
   "source": [
    "2. Define a 3D point class (Point3D) which contains three attributes that are the (x,y,z) coordinates in the 3D space and a string (label). Implement a computeDistance method that computes the distance between the point and another point. Remember that if:\n",
    "\n",
    "$a = (x_a,y_a,z_a)$\n",
    "\n",
    "\n",
    "$b = (x_b,y_b,z_b)$\n",
    "\n",
    "$distance(a,b) = \\sqrt{{(x_a-x_b)}^2 + {(y_a-y_b)}^2 + {(z_a-z_b)}^2}$\n",
    "\n",
    "Given:\n"
   ]
  },
  {
   "cell_type": "code",
   "execution_count": 7,
   "metadata": {},
   "outputs": [],
   "source": [
    "import numpy as np\n",
    "from math import sqrt\n",
    "\n",
    "class Point3D():\n",
    "    def __init__(self, x,y,z, label):\n",
    "        self.x = x\n",
    "        self.y = y\n",
    "        self.z = z\n",
    "        self.label = label\n",
    "        \n",
    "    def computeDistance(self, altroP):\n",
    "        \n",
    "        x = (self.x - altroP.x)**2\n",
    "        y = (self.y - altroP.y)**2\n",
    "        z = (self.z - altroP.z)**2\n",
    "        \n",
    "        d = sqrt(x+y+z)\n",
    "        return d\n",
    "        "
   ]
  },
  {
   "cell_type": "code",
   "execution_count": 48,
   "metadata": {},
   "outputs": [],
   "source": [
    "p = Point3D(0,10,0, \"alfa\")\n",
    "p1 = Point3D(10,20,10, \"point\")\n",
    "p2 = Point3D(4,9, 10, \"other\")\n",
    "p3 = Point3D(8,9,11, \"zebra\")\n",
    "p4 = Point3D(0,10,10, \"label\")\n",
    "p5 = Point3D(0,10,10, \"last\")\n",
    "p6 = Point3D(42,102,10, \"fifth\")"
   ]
  },
  {
   "cell_type": "code",
   "execution_count": 53,
   "metadata": {},
   "outputs": [
    {
     "name": "stdout",
     "output_type": "stream",
     "text": [
      "Closest points (4, 5) and distance 0.0\n"
     ]
    }
   ],
   "source": [
    "import pandas as pd\n",
    "allPoints = [p, p1, p2, p3, p4, p5, p6]\n",
    "\n",
    "minDist = 7868767867867867678678678678678\n",
    "for i in range(len(allPoints)):\n",
    "    for j in range(i+1, len(allPoints)):\n",
    "        d = allPoints[i].computeDistance(allPoints[j])\n",
    "        #print(d)\n",
    "        #print(\"i:\",allPoints[i],\"j:\",j)#,\"d:\",d)\n",
    "        if d < minDist:\n",
    "            punto1 = i\n",
    "            punto2 = j\n",
    "            minDist = d\n",
    "\n",
    "print(f\"Closest points {punto1, punto2} and distance {minDist}\")"
   ]
  }
 ],
 "metadata": {
  "kernelspec": {
   "display_name": "Python 3",
   "language": "python",
   "name": "python3"
  },
  "language_info": {
   "codemirror_mode": {
    "name": "ipython",
    "version": 3
   },
   "file_extension": ".py",
   "mimetype": "text/x-python",
   "name": "python",
   "nbconvert_exporter": "python",
   "pygments_lexer": "ipython3",
   "version": "3.11.5"
  }
 },
 "nbformat": 4,
 "nbformat_minor": 2
}
