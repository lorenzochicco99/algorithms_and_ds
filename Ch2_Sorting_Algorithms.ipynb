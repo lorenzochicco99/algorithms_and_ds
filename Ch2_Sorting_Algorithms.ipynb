{
 "cells": [
  {
   "cell_type": "markdown",
   "metadata": {},
   "source": [
    "# <center><b> Sorting Algorithms </b></center>\n",
    "\n",
    "Sorting means arranging all the items in a list in ascending or descending order. \n",
    "We can compare different sorting algorithms by how much time and memory space is required to use them.\n"
   ]
  },
  {
   "cell_type": "markdown",
   "metadata": {},
   "source": [
    "## <center><b> Merge Sort </b></center>\n",
    "\n",
    "is an algorithm based on the divide-and-conquer methodology for sorting a list of $n$ natural numbers in increasing order.\n",
    "Firstly, the given list of elements is divided iteratively into equal parts (50 and 50) until each sublist contains one element, and then these sublist are combined to create a new list in a sorted order.\n",
    "\n",
    "This emphasized the need to break down a problem into smaller sub-problems of the same type or form as the original problem: \n",
    "\n",
    "In this case, given a list of unsorted elements, we split the list into two approximate halves. \n",
    "We continue to divide the list into halves recursively. \n",
    "\n",
    "After a while, the sublist created as a result of the recursive call will contain only one element. At that point, we begin to merge the solutions in the conquer or merge step.\n",
    "\n",
    "<center><img src=\"./img/13.png\" width=\"500\"/></center>"
   ]
  },
  {
   "cell_type": "markdown",
   "metadata": {},
   "source": [
    "The merge function takes the two lists we want to merge, first_sublist and second_sublist . The i and j variables are initialized to 0 and are used as pointers to tell us where we are in the two lists with respect to the merging process.\n",
    "\n",
    "The if statement selects the smaller of the two, first_sublist[i] or second_sublist[j] , and appends it to merged_list . \n",
    "\n",
    "The i or j index is incremented to reflect where we are with the merging step. \n",
    "\n",
    "The while loop stops when either sublist is empty. There may be elements left behind in either first_sublist or second_sublist.\n",
    "\n",
    " The last two while loops make sure that those elements are added to merged_list before it is returned. The last call to merge(half_a, half_b) will return the sorted list."
   ]
  },
  {
   "cell_type": "code",
   "execution_count": 9,
   "metadata": {},
   "outputs": [
    {
     "name": "stdout",
     "output_type": "stream",
     "text": [
      "Merged: [11, 12]\n",
      "Merged: [7, 41]\n",
      "Merged: [7, 11, 12, 41]\n",
      "Merged: [13, 61]\n",
      "Merged: [14, 16]\n",
      "Merged: [13, 14, 16, 61]\n",
      "Merged: [7, 11, 12, 13, 14, 16, 41, 61]\n",
      "Sorted: [7, 11, 12, 13, 14, 16, 41, 61]\n"
     ]
    }
   ],
   "source": [
    "# the merge_sort method, which recursively divides the list.\n",
    "# merge method to combine the results\n",
    "\n",
    "def merge_sort(unsorted_list):   # get a list of unsorted elements\n",
    "    if len(unsorted_list) == 1:  # if the list has only one element (base case), return it\n",
    "        return unsorted_list\n",
    "    mid_point = int(len(unsorted_list)/2) # find the appproximate midpoint\n",
    "    first_half = unsorted_list[:mid_point] #sublist from 0 to mid_point\n",
    "    second_half = unsorted_list[mid_point:] # sublist from mid_point to end\n",
    "    half_a = merge_sort(first_half) # recursively call merge_sort on the first half\n",
    "    half_b = merge_sort(second_half) # recursively call merge_sort on the second half\n",
    "    return merge(half_a, half_b)\n",
    "\n",
    "def merge(first_sublist, second_sublist):\n",
    "    \"\"\"\"The merge function takes the two lists\n",
    "    we want to merge, \n",
    "    first_sublist and second_sublist . \n",
    "    The i and j variables are initialized to 0 and are used as pointers\n",
    "    to tell us where we are in the two lists with respect to the merging process.\"\"\"\n",
    "    i=j=0 # initialize pointers i and j to 0\n",
    "    merged_list = [] \n",
    "    while i < len(first_sublist) and j < len(second_sublist): # while both lists have elements\n",
    "        if first_sublist[i] < second_sublist[j]: # select the smaller of the two\n",
    "            merged_list.append(first_sublist[i]) # append the smaller to the merged list \n",
    "            i += 1 # increment the pointer of the list from which the element was selected\n",
    "        else: \n",
    "            merged_list.append(second_sublist[j]) \n",
    "            j += 1 \n",
    "    while i < len(first_sublist):\n",
    "        merged_list.append(first_sublist[i])  \n",
    "        i += 1 \n",
    "    while j < len(second_sublist):\n",
    "        merged_list.append(second_sublist[j])\n",
    "        j += 1 \n",
    "    print(\"Merged:\", merged_list)  # print the merged list\n",
    "    return merged_list\n",
    "        \n",
    "a= [11, 12, 7, 41, 61, 13, 16, 14] \n",
    "print(\"Sorted:\", merge_sort(a))"
   ]
  },
  {
   "cell_type": "markdown",
   "metadata": {},
   "source": [
    "<hr style=\"border: 1px dashed black;\" />\n",
    "<u> Another example with: </u>\n",
    "\n",
    "list $= [4,6,8,5,7,11,40]$\n",
    "\n",
    "<center>\n",
    "<img src=\"./img/14c.png\" width=\"300\" style=\"margin-right:20px; vertical-align: 185px;\"/>\n",
    "<img src=\"./img/15.png\" width=\"380\"/></center>\n",
    "\n",
    "After one of the lists becomes empty, like after step 4 in this example, at this point in the execution, the third while loop in the merge function kicks in to move 11 and 40 into merged_list.\n",
    "\n",
    "\n",
    "<br>\n",
    "\n",
    "The worst-case running time complexity of the merge sort will depend on the following steps: \n",
    "1. Firstly, the divide step will take a constant time since it just computes the midpoint, which can be done in $O(1)$ time \n",
    "2. Then, in each iteration, we divide the list into half recursively, which will take $O(log n)$, which is quite similar to what we have seen in the binary search algorithm \n",
    "3. Further, the combine/merge step merges all the n elements into the original array, which will take $(n)$ time. \n",
    "\n",
    "Hence, the merge sort algorithm has a runtime complexity of $O(log n) T(n) = O(n) * O(log n) = O(n log n)$\n",
    "\n",
    "<hr>"
   ]
  },
  {
   "cell_type": "markdown",
   "metadata": {},
   "source": [
    "## <center><b> Bubble Sort </b></center>\n",
    "\n",
    "Given an unordered list, we compare adjacent elements in the list, and after each comparison, we place them in the right order according to their values. \n",
    "So, we swap the adjacent items if they are not in the correct order.\n",
    "This process is repeated $n-1$ times for a list of $n$ items.\n",
    "\n",
    "In each iteration, the largest element of the list is moved to the end of the list.\n",
    "After the second iteration, the second largest element will be placed at the second-to-last position in the list.\n",
    "The same process is repeated until the list is sorted.\n",
    "\n",
    "Bubble sort is implemented using a double-nested loop, where in one loop is inside another loop. In bubble sort, the inner loop repeatedly compares and swaps the adjacent elements in each iteration for a given list, and the outer loop keeps track of how many times the inner loop should be repeated.\n",
    "\n",
    "<center>\n",
    "<img src=\"./img/22.png\" width=\"200\"/></center>\n",
    "<center>\n",
    "<img src=\"./img/23.png\" width=\"180\"/></center>\n",
    "\n",
    "<br>\n",
    "\n",
    "\n",
    "Let’s consider an example to understand the working of the bubble sort algorithm and sort an unordered list of six elements, such as { 45 , 23 , 87 , 12 , 32 , 4 }. \n",
    "\n",
    "\n",
    "In the first iteration, we start comparinG the first two elements, 45 and 23 , and we swap them, as 45 should be placed after 23.\n",
    "\n",
    "\n",
    "Then, we compare the next adjacent values, 45 and 87, to see whether they are in the correct order. As 87 is a higher value than 45 , we do not need to swap them. We swap two elements if they are not in the correct order.\n",
    "\n",
    "<center><img src=\"./img/20.png\" width=\"500\" />\n",
    "\n",
    ".\n",
    "\n",
    ".\n",
    "\n",
    "\n",
    ".\n",
    "\n",
    "<img src=\"./img/21.png\" width=\"500\" /></center>\n",
    "We repeat the same process again until we get to a sorted list.\n"
   ]
  },
  {
   "cell_type": "code",
   "execution_count": 8,
   "metadata": {},
   "outputs": [
    {
     "name": "stdout",
     "output_type": "stream",
     "text": [
      "After swapping 64 and 34 : [34, 64, 25, 12, 22, 11, 90]\n",
      "After swapping 64 and 25 : [34, 25, 64, 12, 22, 11, 90]\n",
      "After swapping 64 and 12 : [34, 25, 12, 64, 22, 11, 90]\n",
      "After swapping 64 and 22 : [34, 25, 12, 22, 64, 11, 90]\n",
      "After swapping 64 and 11 : [34, 25, 12, 22, 11, 64, 90]\n",
      "After swapping 34 and 25 : [25, 34, 12, 22, 11, 64, 90]\n",
      "After swapping 34 and 12 : [25, 12, 34, 22, 11, 64, 90]\n",
      "After swapping 34 and 22 : [25, 12, 22, 34, 11, 64, 90]\n",
      "After swapping 34 and 11 : [25, 12, 22, 11, 34, 64, 90]\n",
      "After swapping 25 and 12 : [12, 25, 22, 11, 34, 64, 90]\n",
      "After swapping 25 and 22 : [12, 22, 25, 11, 34, 64, 90]\n",
      "After swapping 25 and 11 : [12, 22, 11, 25, 34, 64, 90]\n",
      "After swapping 22 and 11 : [12, 11, 22, 25, 34, 64, 90]\n",
      "After swapping 12 and 11 : [11, 12, 22, 25, 34, 64, 90]\n",
      "Sorted array: [11, 12, 22, 25, 34, 64, 90]\n"
     ]
    }
   ],
   "source": [
    "def bubble_sort(arr):\n",
    "    \"\"\"the outer loop starts from the beginning of the list\n",
    "        and goes up to the end of the list\"\"\"\n",
    "    n = len(arr)\n",
    "\n",
    "    # Traverse through all array elements\n",
    "    for i in range(n):\n",
    "        # Last i elements are already sorted, so we don't need to check them\n",
    "        for j in range(0, n-i-1):\n",
    "            # Swap if the element found is greater than the next element\n",
    "            if arr[j] > arr[j+1]:\n",
    "                arr[j], arr[j+1] = arr[j+1], arr[j]\n",
    "                # Print the state of the array after each swap\n",
    "                print(\"After swapping\", arr[j+1], \"and\", arr[j], \":\", arr)\n",
    "\n",
    "## another example\n",
    "# def bubble_sort(unordered_list): \n",
    "# \"\"\"here it starts from the end of the list and goes down on the beginning\"\"\"\n",
    "#     iteration_number = len(unordered_list)-1 \n",
    "#     for i in range(iteration_number,0,-1): \n",
    "#         for j in range(i): \n",
    "#             if unordered_list[j] > unordered_list[j+1]: \n",
    "#                 temp = unordered_list[j] \n",
    "#                 unordered_list[j] = unordered_list[j+1] \n",
    "#                 unordered_list[j+1] = temp\n",
    "                \n",
    "# Example usage:\n",
    "my_list = [64, 34, 25, 12, 22, 11, 90]\n",
    "bubble_sort(my_list)\n",
    "\n",
    "print(\"Sorted array:\", my_list)"
   ]
  },
  {
   "cell_type": "markdown",
   "metadata": {},
   "source": [
    "The bubble sort algorithm is not an efficient sorting algorithm, as it provides a <b>worst-case runtime complexity of $O(n^2)$</b>,\n",
    " and a <b>best-case complexity of $O(n)$ </b>. \n",
    " \n",
    "The worst-case situation occurs when we want to sort the given list in ascending order and the given list is in descending order, and the best case occurs when the given list is already sorted; in that case, there will not be any need for swapping.\n",
    "\n",
    "<hr>"
   ]
  },
  {
   "cell_type": "markdown",
   "metadata": {},
   "source": [
    "## <center><b> Insertion Sort </b></center>\n",
    "\n",
    "The idea of insertion sort is that we maintain two sublists (a sublist is a part of the original larger list), one that is sorted and one that is not sorted, in which elements are added one by one from the unsorted sublist to the sorted sublist. \n",
    "\n",
    "\n",
    "We take elements from the unsorted sublist and insert them in the correct position in the sorted sublist, in such a way that this sublist remains sorted. \n",
    "In the insertion sort algorithm, we always start with one element, taking it to be sorted, and then take elements one by one from the unsorted sublist and place them at the correct positions (in relation to the first element) in the sorted sublist. \n",
    "\n",
    "So, after taking one element from the unsorted sublist and adding it to the sorted sublist, now we have two elements in the sorted sublist. Then, we again take another element from the unsorted sublist, and place it in the correct position (in relation to the two already sorted elements) in the sorted sublist. \n",
    "\n",
    "We repeatedly follow this process to insert all the elements one by one from the unsorted sublist into the sorted sublist.\n",
    "\n",
    "\n",
    "<!-- <br>\n",
    "Let's see an <u>example</u> of five elements [5, 1, 100, 2, 10]\n",
    "\n",
    "<center><img src=\"./img/24.png\" width=\"180\"/></center>\n",
    "\n",
    "The algorithm starts by using a for loop to run between the 1 and 4 indices. We start from index 1 because we take the element stored at index 0 to be in the sorted subarray and elements between index 1 to 4 are of the unsorted sublist\n",
    "<center><img src=\"./img/25.png\" width=\"200\"/></center> -->\n"
   ]
  },
  {
   "cell_type": "markdown",
   "metadata": {},
   "source": [
    "Let's see an <u>example</u> \n",
    "\n",
    "We have to sort a list of six elements: { 45 , 23 , 87 , 12 , 32 , 4 }. \n",
    "\n",
    "\n",
    "Firstly, we start with one element, assuming it to be sorted, then take the next element, 23 , from the unsorted sublist and insert it at the correct position in the sorted sublist. \n",
    "\n",
    "In the next iteration, we take the third element, 87 , from the unsorted sublist, and again insert it into the sorted sublist at the correct position. \n",
    "\n",
    "We follow the same process until all elements are in the sorted sub-list.\n",
    "<center><img src=\"./img/26.png\" width=\"400\"/></center>"
   ]
  },
  {
   "cell_type": "code",
   "execution_count": 6,
   "metadata": {},
   "outputs": [
    {
     "name": "stdout",
     "output_type": "stream",
     "text": [
      "Original list [45, 23, 87, 12, 32, 4]\n",
      "After inserting 23 : [23, 45, 87, 12, 32, 4]\n",
      "After inserting 87 : [23, 45, 87, 12, 32, 4]\n",
      "After inserting 12 : [12, 23, 45, 87, 32, 4]\n",
      "After inserting 32 : [12, 23, 32, 45, 87, 4]\n",
      "After inserting 4 : [4, 12, 23, 32, 45, 87]\n",
      "Sorted list [4, 12, 23, 32, 45, 87]\n"
     ]
    }
   ],
   "source": [
    "def insertion_sort(unsorted_list):\n",
    "    # Iterate over the list from the second element (index 1)\n",
    "    for index in range(1, len(unsorted_list)):\n",
    "        # The search_index variable will be used to find the correct position for the current element\n",
    "        search_index = index\n",
    "        # The insert_value is the value of the current element\n",
    "        insert_value = unsorted_list[index]\n",
    "        # While the search_index is greater than 0 and the previous element is greater than the current element\n",
    "        while search_index > 0 and unsorted_list[search_index-1] > insert_value :\n",
    "            # Shift the previous element to the right\n",
    "            unsorted_list[search_index] = unsorted_list[search_index-1]\n",
    "            # Decrement the search_index\n",
    "            search_index -= 1\n",
    "        # Insert the current element at the correct position\n",
    "        unsorted_list[search_index] = insert_value\n",
    "        # Print the state of the list after each insertion\n",
    "        print(\"After inserting\", insert_value, \":\", unsorted_list)\n",
    "\n",
    "# The list to be sorted\n",
    "#my_list = [5, 1, 100, 2, 10]\n",
    "my_list = [45, 23, 87, 12, 32, 4]\n",
    "print(\"Original list\", my_list)\n",
    "# Call the insertion_sort function\n",
    "insertion_sort(my_list)\n",
    "print(\"Sorted list\", my_list)"
   ]
  },
  {
   "cell_type": "markdown",
   "metadata": {},
   "source": [
    "<hr>"
   ]
  },
  {
   "cell_type": "markdown",
   "metadata": {},
   "source": [
    "## <center><b> Selection Sort </b></center>\n",
    "\n",
    "The selection sort algorithm begins by finding the smallest element in the list and interchanges it with the data stored at the first position in the list. Thus, it sorts the sublist sorted up to the first element. \n",
    "This process is repeated for $(n-1)$ times to sort n items. \n",
    "\n",
    "Next, the second smallest element, which is the smallest element in the remaining list, is identified and interchanged with the second position in the list. This makes the initial two elements sorted. The process is repeated, and the smallest element remaining in the list is swapped with the element in the third index on the list.\n",
    "\n",
    "<u> Example</u>\n",
    "We’ll sort the following list of four elements { 15, 12, 65, 10, 7 }\n",
    "\n",
    "In the first iteration of the selection sort, we start at index 0, we search for the smallest item in the list, and when the smallest element is found, it is exchanged with the first data element of the list at index 0. We simply repeat this process until the list is fully sorted. After the first iteration, the smallest element will be placed in the first position in the list.\n",
    "<center><img src=\"./img/27.png\" width=\"330\"/></center>\n",
    "\n",
    "\n",
    "Next, we start from the second element of the list at index position 1 and search the smallest element in the data list from index position 1 to the length of the list. Once we find the smallest element from this remaining list of elements, we swap this element with the second element of the list.\n",
    "<center><img src=\"./img/28.png\" width=\"330\"/></center>\n",
    "\n",
    "In the next iteration, we find out the smallest element in the remaining list in index position 2 to 4 and swap the smallest data element with the data element at index 2 in the second iteration. We follow the same process until we sort the complete list."
   ]
  },
  {
   "cell_type": "code",
   "execution_count": 10,
   "metadata": {},
   "outputs": [
    {
     "name": "stdout",
     "output_type": "stream",
     "text": [
      "List before sorting [3, 2, 35, 4, 32, 94, 5, 7]\n",
      "After iteration 0 : [2, 3, 35, 4, 32, 94, 5, 7]\n",
      "After iteration 1 : [2, 3, 35, 4, 32, 94, 5, 7]\n",
      "After iteration 2 : [2, 3, 4, 35, 32, 94, 5, 7]\n",
      "After iteration 3 : [2, 3, 4, 5, 32, 94, 35, 7]\n",
      "After iteration 4 : [2, 3, 4, 5, 7, 94, 35, 32]\n",
      "After iteration 5 : [2, 3, 4, 5, 7, 32, 35, 94]\n",
      "After iteration 6 : [2, 3, 4, 5, 7, 32, 35, 94]\n",
      "After iteration 7 : [2, 3, 4, 5, 7, 32, 35, 94]\n",
      "List after sorting [2, 3, 4, 5, 7, 32, 35, 94]\n"
     ]
    }
   ],
   "source": [
    "def selection_sort(unsorted_list):  \n",
    "    size_of_list = len(unsorted_list)  \n",
    "    for i in range(size_of_list):  \n",
    "        small = i  # assume the first element is the smallest\n",
    "        for j in range(i+1, size_of_list):  \n",
    "            if unsorted_list[j] < unsorted_list[small]:  \n",
    "                small = j  # update smallest if current element is smaller\n",
    "        # swap the smallest found with the first element of the unsorted part\n",
    "        temp = unsorted_list[i]  \n",
    "        unsorted_list[i] = unsorted_list[small]  \n",
    "        unsorted_list[small] = temp \n",
    "        print(\"After iteration\", i, \":\", unsorted_list)  # print the list after each iteration\n",
    "\n",
    "a_list = [3, 2, 35, 4, 32, 94, 5, 7] \n",
    "\n",
    "print(\"List before sorting\", a_list) \n",
    "\n",
    "selection_sort(a_list) \n",
    "\n",
    "print(\"List after sorting\", a_list)"
   ]
  },
  {
   "cell_type": "markdown",
   "metadata": {},
   "source": [
    "<hr>"
   ]
  },
  {
   "cell_type": "markdown",
   "metadata": {},
   "source": [
    "## <center><b> Quick Sort </b></center>\n",
    "\n",
    "is an efficient sorting algorithm and is based on the divide-and-conquer class of algorithms, similar to the merge sort algorithm.\n",
    "\n",
    "The concept behind quicksorting is partitioning a given list or array.\n",
    "\n",
    "\n",
    "to finishhhhhhhhhhhhhhhhhhhhhhh"
   ]
  },
  {
   "cell_type": "code",
   "execution_count": 11,
   "metadata": {},
   "outputs": [
    {
     "name": "stdout",
     "output_type": "stream",
     "text": [
      "Before sorting: [43, 3, 77, 89, 4, 20]\n",
      "After partition: [4, 3, 20, 43, 89, 77]\n",
      "After partition: [3, 4, 20, 43, 89, 77]\n",
      "After partition: [3, 4, 20, 43, 77, 89]\n",
      "After sorting: [3, 4, 20, 43, 77, 89]\n"
     ]
    }
   ],
   "source": [
    "def partition(unsorted_array, first_index, last_index):\n",
    "    pivot = unsorted_array[first_index]  # choose the first element as pivot\n",
    "    pivot_index = first_index\n",
    "    index_of_last_element = last_index\n",
    "    less_than_pivot_index = index_of_last_element\n",
    "    greater_than_pivot_index = first_index + 1\n",
    "    while True:\n",
    "        while unsorted_array[greater_than_pivot_index] < pivot and greater_than_pivot_index < last_index:\n",
    "            greater_than_pivot_index += 1  # find an element greater than pivot\n",
    "        while unsorted_array[less_than_pivot_index] > pivot and less_than_pivot_index >= first_index:\n",
    "            less_than_pivot_index -= 1  # find an element less than pivot\n",
    "        if greater_than_pivot_index < less_than_pivot_index:\n",
    "            # swap the elements at greater_than_pivot_index and less_than_pivot_index\n",
    "            temp = unsorted_array[greater_than_pivot_index]\n",
    "            unsorted_array[greater_than_pivot_index] = unsorted_array[less_than_pivot_index]\n",
    "            unsorted_array[less_than_pivot_index] = temp\n",
    "        else:\n",
    "            break\n",
    "    # swap the pivot with the element at less_than_pivot_index\n",
    "    unsorted_array[pivot_index] = unsorted_array[less_than_pivot_index]\n",
    "    unsorted_array[less_than_pivot_index] = pivot\n",
    "    print(\"After partition:\", unsorted_array)  # print the array after partition\n",
    "    return less_than_pivot_index\n",
    "\n",
    "def quick_sort(unsorted_array, first, last):\n",
    "    if last - first <= 0:\n",
    "        return\n",
    "    else:\n",
    "        partition_point = partition(unsorted_array, first, last)\n",
    "        quick_sort(unsorted_array, first, partition_point-1)\n",
    "        quick_sort(unsorted_array, partition_point+1, last)\n",
    "\n",
    "my_array = [43, 3, 77, 89, 4, 20]\n",
    "print(\"Before sorting:\", my_array)\n",
    "quick_sort(my_array, 0, 5)\n",
    "print(\"After sorting:\", my_array)"
   ]
  },
  {
   "cell_type": "markdown",
   "metadata": {},
   "source": [
    "<hr>\n",
    "\n",
    "A comparison of the complexities of different sorting algorithms:\n",
    "<center><img src=\"./img/29.png\" width=\"330\"/></center>"
   ]
  },
  {
   "cell_type": "markdown",
   "metadata": {},
   "source": [
    "<hr>\n",
    "\n",
    "## <u> Exercises </u> "
   ]
  },
  {
   "cell_type": "markdown",
   "metadata": {},
   "source": []
  }
 ],
 "metadata": {
  "kernelspec": {
   "display_name": "Python 3",
   "language": "python",
   "name": "python3"
  },
  "language_info": {
   "codemirror_mode": {
    "name": "ipython",
    "version": 3
   },
   "file_extension": ".py",
   "mimetype": "text/x-python",
   "name": "python",
   "nbconvert_exporter": "python",
   "pygments_lexer": "ipython3",
   "version": "3.11.5"
  }
 },
 "nbformat": 4,
 "nbformat_minor": 2
}
