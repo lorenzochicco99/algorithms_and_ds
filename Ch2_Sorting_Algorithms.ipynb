{
 "cells": [
  {
   "cell_type": "markdown",
   "metadata": {},
   "source": [
    "## <center><b> Merge Sort </b></center>\n",
    "\n",
    "is an algorithm based on the divide-and-conquer methodology for sorting a list of $n$ natural numbers in increasing order.\n",
    "Firstly, the given list of elements is divided iteratively into equal parts (50 and 50) until each sublist contains one element, and then these sublist are combined to create a new list in a sorted order.\n",
    "\n",
    "This emphasized the need to break down a problem into smaller sub-problems of the same type or form as the original problem: \n",
    "\n",
    "In this case, given a list of unsorted elements, we split the list into two approximate halves. \n",
    "We continue to divide the list into halves recursively. \n",
    "\n",
    "After a while, the sublist created as a result of the recursive call will contain only one element. At that point, we begin to merge the solutions in the conquer or merge step.\n",
    "\n",
    "<center><img src=\"./img/13.png\" width=\"500\"/></center>"
   ]
  },
  {
   "cell_type": "markdown",
   "metadata": {},
   "source": [
    "The merge function takes the two lists we want to merge, first_sublist and second_sublist . The i and j variables are initialized to 0 and are used as pointers to tell us where we are in the two lists with respect to the merging process.\n",
    "\n",
    "The if statement selects the smaller of the two, first_sublist[i] or second_sublist[j] , and appends it to merged_list . \n",
    "\n",
    "The i or j index is incremented to reflect where we are with the merging step. \n",
    "\n",
    "The while loop stops when either sublist is empty. There may be elements left behind in either first_sublist or second_sublist.\n",
    "\n",
    " The last two while loops make sure that those elements are added to merged_list before it is returned. The last call to merge(half_a, half_b) will return the sorted list."
   ]
  },
  {
   "cell_type": "code",
   "execution_count": 2,
   "metadata": {},
   "outputs": [
    {
     "name": "stdout",
     "output_type": "stream",
     "text": [
      "[7, 11, 12, 13, 14, 16, 41, 61]\n"
     ]
    }
   ],
   "source": [
    "# the merge_sort method, which recursively divides the list.\n",
    "# merge method to combine the results\n",
    "\n",
    "def merge_sort(unsorted_list):   # get a list of unsorted elements\n",
    "    if len(unsorted_list) == 1:  # if the list has only one element (base case), return it\n",
    "        return unsorted_list\n",
    "    mid_point = int(len(unsorted_list)/2) # find the appproximate midpoint\n",
    "    first_half = unsorted_list[:mid_point] #sublist from 0 to mid_point\n",
    "    second_half = unsorted_list[mid_point:] # sublist from mid_point to end\n",
    "    half_a = merge_sort(first_half) # recursively call merge_sort on the first half\n",
    "    half_b = merge_sort(second_half) # recursively call merge_sort on the second half\n",
    "    return merge(half_a, half_b)\n",
    "\n",
    "def merge(first_sublist, second_sublist):\n",
    "    \"\"\"\"The merge function takes the two lists\n",
    "        we want to merge, \n",
    "        first_sublist and second_sublist . \n",
    "        The i and j variables are initialized to 0 and are used as pointers\n",
    "        to tell us where we are in the two lists with respect to the merging process.\"\"\"\n",
    "    \n",
    "    i=j=0 # initialize pointers i and j to 0\n",
    "    merged_list = [] \n",
    "    while i < len(first_sublist) and j < len(second_sublist): # while both lists have elements\n",
    "        if first_sublist[i] < second_sublist[j]: # select the smaller of the two\n",
    "            merged_list.append(first_sublist[i]) # append the smaller to the merged list \n",
    "            i += 1 # increment the pointer of the list from which the element was selected\n",
    "        else: \n",
    "            merged_list.append(second_sublist[j]) \n",
    "            j += 1 \n",
    "    # check the elements left behind in the first list\n",
    "    while i < len(first_sublist):\n",
    "        merged_list.append(first_sublist[i])  \n",
    "        i += 1 \n",
    "    # check the elements left behind in the second list\n",
    "    while j < len(second_sublist):\n",
    "        merged_list.append(second_sublist[j])\n",
    "        j += 1 \n",
    "    return merged_list\n",
    "        \n",
    "a= [11, 12, 7, 41, 61, 13, 16, 14] \n",
    "print(merge_sort(a))"
   ]
  },
  {
   "cell_type": "markdown",
   "metadata": {},
   "source": [
    "<hr style=\"border: 1px dashed black;\" />\n",
    "<u> Another example with: </u>\n",
    "\n",
    "list $= [4,6,8,5,7,11,40]$\n",
    "\n",
    "<center>\n",
    "<img src=\"./img/14c.png\" width=\"300\" style=\"margin-right:20px; vertical-align: 185px;\"/>\n",
    "<img src=\"./img/15.png\" width=\"380\"/></center>\n",
    "\n",
    "After one of the lists becomes empty, like after step 4 in this example, at this point in the execution, the third while loop in the merge function kicks in to move 11 and 40 into merged_list.\n",
    "\n",
    "\n",
    "<br>\n",
    "\n",
    "The worst-case running time complexity of the merge sort will depend on the following steps: \n",
    "1. Firstly, the divide step will take a constant time since it just computes the midpoint, which can be done in $O(1)$ time \n",
    "2. Then, in each iteration, we divide the list into half recursively, which will take $O(log n)$, which is quite similar to what we have seen in the binary search algorithm \n",
    "3. Further, the combine/merge step merges all the n elements into the original array, which will take $(n)$ time. \n",
    "\n",
    "Hence, the merge sort algorithm has a runtime complexity of $O(log n) T(n) = O(n) * O(log n) = O(n log n)$"
   ]
  },
  {
   "cell_type": "markdown",
   "metadata": {},
   "source": [
    "<hr>"
   ]
  },
  {
   "cell_type": "markdown",
   "metadata": {},
   "source": [
    "## <center><b> Bubble Sort </b></center>"
   ]
  },
  {
   "cell_type": "code",
   "execution_count": 3,
   "metadata": {},
   "outputs": [
    {
     "name": "stdout",
     "output_type": "stream",
     "text": [
      "Sorted array: [11, 12, 22, 25, 34, 64, 90]\n"
     ]
    }
   ],
   "source": [
    "def bubble_sort(arr):\n",
    "    n = len(arr)\n",
    "\n",
    "    # Traverse through all array elements\n",
    "    for i in range(n):\n",
    "        # Last i elements are already sorted, so we don't need to check them\n",
    "        for j in range(0, n-i-1):\n",
    "            # Swap if the element found is greater than the next element\n",
    "            if arr[j] > arr[j+1]:\n",
    "                arr[j], arr[j+1] = arr[j+1], arr[j]\n",
    "\n",
    "# Example usage:\n",
    "my_list = [64, 34, 25, 12, 22, 11, 90]\n",
    "bubble_sort(my_list)\n",
    "\n",
    "print(\"Sorted array:\", my_list)"
   ]
  },
  {
   "cell_type": "code",
   "execution_count": null,
   "metadata": {},
   "outputs": [],
   "source": []
  }
 ],
 "metadata": {
  "kernelspec": {
   "display_name": "Python 3",
   "language": "python",
   "name": "python3"
  },
  "language_info": {
   "codemirror_mode": {
    "name": "ipython",
    "version": 3
   },
   "file_extension": ".py",
   "mimetype": "text/x-python",
   "name": "python",
   "nbconvert_exporter": "python",
   "pygments_lexer": "ipython3",
   "version": "3.11.5"
  }
 },
 "nbformat": 4,
 "nbformat_minor": 2
}
